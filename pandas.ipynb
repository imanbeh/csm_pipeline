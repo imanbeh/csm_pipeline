{
 "cells": [
  {
   "cell_type": "code",
   "execution_count": 1,
   "metadata": {},
   "outputs": [
    {
     "name": "stdout",
     "output_type": "stream",
     "text": [
      "Match function imported.\n",
      "running\n",
      "Ready to go!\n"
     ]
    }
   ],
   "source": [
    "from everything import full_analysis"
   ]
  },
  {
   "cell_type": "code",
   "execution_count": 2,
   "metadata": {},
   "outputs": [],
   "source": [
    "from astropy.io import fits"
   ]
  },
  {
   "cell_type": "code",
   "execution_count": 3,
   "metadata": {},
   "outputs": [],
   "source": [
    "highpath='jan29_data/from_server/Betelgeuse_TE_cont_R0.image.image.tt0.fits'\n",
    "high = fits.open(highpath)\n",
    "medpath = 'jan29_data/from_server/Betelgeuse_all_cont_1-1.image.image.tt0.fits'\n",
    "med = fits.open(medpath)\n",
    "lowpath= 'jan29_data/from_server/Betelgeuse_TC_cont.image.image.pbcor.fits'\n",
    "low = fits.open(lowpath)\n"
   ]
  },
  {
   "cell_type": "code",
   "execution_count": 4,
   "metadata": {},
   "outputs": [],
   "source": [
    "from header_setup import  read"
   ]
  },
  {
   "cell_type": "code",
   "execution_count": 5,
   "metadata": {},
   "outputs": [
    {
     "name": "stdout",
     "output_type": "stream",
     "text": [
      "Header information imported.\n",
      "Header information imported.\n",
      "Header information imported.\n"
     ]
    }
   ],
   "source": [
    "dhigh, ihigh = read(high)\n",
    "dmed,imed = read(med)\n",
    "dlow, ilow = read(low)"
   ]
  },
  {
   "cell_type": "code",
   "execution_count": 6,
   "metadata": {},
   "outputs": [],
   "source": [
    "import pandas as pd\n",
    "import numpy as np"
   ]
  },
  {
   "cell_type": "code",
   "execution_count": 7,
   "metadata": {},
   "outputs": [],
   "source": [
    "df = pd.DataFrame([[\"'Low'\",ilow['kspatres'], ilow['header']['DATE-OBS']],\n",
    "                   [\"'Medium'\",imed['kspatres'], imed['header']['DATE-OBS']],\n",
    "                    [\"'High'\",ihigh['kspatres'], ihigh['header']['DATE-OBS']]],\n",
    "                  columns=[\"File\",\"Resolution\",\"Observation Date\"])"
   ]
  },
  {
   "cell_type": "code",
   "execution_count": 8,
   "metadata": {},
   "outputs": [
    {
     "data": {
      "text/html": [
       "<div>\n",
       "<style scoped>\n",
       "    .dataframe tbody tr th:only-of-type {\n",
       "        vertical-align: middle;\n",
       "    }\n",
       "\n",
       "    .dataframe tbody tr th {\n",
       "        vertical-align: top;\n",
       "    }\n",
       "\n",
       "    .dataframe thead th {\n",
       "        text-align: right;\n",
       "    }\n",
       "</style>\n",
       "<table border=\"1\" class=\"dataframe\">\n",
       "  <thead>\n",
       "    <tr style=\"text-align: right;\">\n",
       "      <th></th>\n",
       "      <th>File</th>\n",
       "      <th>Resolution</th>\n",
       "      <th>Observation Date</th>\n",
       "    </tr>\n",
       "  </thead>\n",
       "  <tbody>\n",
       "    <tr>\n",
       "      <th>0</th>\n",
       "      <td>'Low'</td>\n",
       "      <td>0.184441</td>\n",
       "      <td>2016-08-16T14:34:28.511999</td>\n",
       "    </tr>\n",
       "    <tr>\n",
       "      <th>1</th>\n",
       "      <td>'Medium'</td>\n",
       "      <td>0.040566</td>\n",
       "      <td>2015-11-06T08:54:51.888001</td>\n",
       "    </tr>\n",
       "    <tr>\n",
       "      <th>2</th>\n",
       "      <td>'High'</td>\n",
       "      <td>0.018229</td>\n",
       "      <td>2015-11-06T08:54:49.872000</td>\n",
       "    </tr>\n",
       "  </tbody>\n",
       "</table>\n",
       "</div>"
      ],
      "text/plain": [
       "       File  Resolution            Observation Date\n",
       "0     'Low'    0.184441  2016-08-16T14:34:28.511999\n",
       "1  'Medium'    0.040566  2015-11-06T08:54:51.888001\n",
       "2    'High'    0.018229  2015-11-06T08:54:49.872000"
      ]
     },
     "execution_count": 8,
     "metadata": {},
     "output_type": "execute_result"
    }
   ],
   "source": [
    "df"
   ]
  },
  {
   "cell_type": "code",
   "execution_count": 9,
   "metadata": {},
   "outputs": [
    {
     "name": "stdout",
     "output_type": "stream",
     "text": [
      "\\begin{tabular}{lrl}\n",
      "\\toprule\n",
      "File & Resolution & Observation Date \\\\\n",
      "\\midrule\n",
      "'Low' & 0.184 & 2016-08-16T14:34:28.511999 \\\\\n",
      "'Medium' & 0.041 & 2015-11-06T08:54:51.888001 \\\\\n",
      "'High' & 0.018 & 2015-11-06T08:54:49.872000 \\\\\n",
      "\\bottomrule\n",
      "\\end{tabular}\n",
      "\n"
     ]
    }
   ],
   "source": [
    "print(df.to_latex(index=False,\n",
    "                  formatters={\"name\": str.upper},\n",
    "                  float_format=\"{:.3f}\".format))"
   ]
  },
  {
   "cell_type": "code",
   "execution_count": null,
   "metadata": {},
   "outputs": [],
   "source": []
  }
 ],
 "metadata": {
  "kernelspec": {
   "display_name": "base",
   "language": "python",
   "name": "python3"
  },
  "language_info": {
   "codemirror_mode": {
    "name": "ipython",
    "version": 3
   },
   "file_extension": ".py",
   "mimetype": "text/x-python",
   "name": "python",
   "nbconvert_exporter": "python",
   "pygments_lexer": "ipython3",
   "version": "3.11.4"
  }
 },
 "nbformat": 4,
 "nbformat_minor": 2
}
