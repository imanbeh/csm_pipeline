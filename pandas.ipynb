{
 "cells": [
  {
   "cell_type": "code",
   "execution_count": 1,
   "metadata": {},
   "outputs": [
    {
     "name": "stdout",
     "output_type": "stream",
     "text": [
      "Match function imported.\n",
      "running\n",
      "Ready to go!\n"
     ]
    }
   ],
   "source": [
    "from everything import full_analysis"
   ]
  },
  {
   "cell_type": "code",
   "execution_count": 2,
   "metadata": {},
   "outputs": [],
   "source": [
    "from astropy.io import fits"
   ]
  },
  {
   "cell_type": "code",
   "execution_count": 5,
   "metadata": {},
   "outputs": [
    {
     "name": "stdout",
     "output_type": "stream",
     "text": [
      "/Users/iman\n"
     ]
    }
   ],
   "source": [
    "cd"
   ]
  },
  {
   "cell_type": "code",
   "execution_count": 6,
   "metadata": {},
   "outputs": [],
   "source": [
    "highpath='Documents/cuny_ms/jan29_data/from_server/Betelgeuse_TE_cont_R0.image.image.tt0.fits'\n",
    "high = fits.open(highpath)\n",
    "medpath = 'Documents/cuny_ms/jan29_data/from_server/Betelgeuse_all_cont_1-1.image.image.tt0.fits'\n",
    "med = fits.open(medpath)\n",
    "lowpath= 'Documents/cuny_ms/jan29_data/from_server/Betelgeuse_TC_cont.image.image.pbcor.fits'\n",
    "low = fits.open(lowpath)\n"
   ]
  },
  {
   "cell_type": "code",
   "execution_count": 7,
   "metadata": {},
   "outputs": [],
   "source": [
    "from header_setup import  read"
   ]
  },
  {
   "cell_type": "code",
   "execution_count": 8,
   "metadata": {},
   "outputs": [
    {
     "name": "stdout",
     "output_type": "stream",
     "text": [
      "Header information imported.\n",
      "Header information imported.\n",
      "Header information imported.\n"
     ]
    }
   ],
   "source": [
    "dhigh, ihigh = read(high)\n",
    "dmed,imed = read(med)\n",
    "dlow, ilow = read(low)"
   ]
  },
  {
   "cell_type": "code",
   "execution_count": 17,
   "metadata": {},
   "outputs": [],
   "source": [
    "from astropy import units as u"
   ]
  },
  {
   "cell_type": "code",
   "execution_count": 9,
   "metadata": {},
   "outputs": [],
   "source": [
    "import pandas as pd\n",
    "import numpy as np"
   ]
  },
  {
   "cell_type": "code",
   "execution_count": 26,
   "metadata": {},
   "outputs": [
    {
     "data": {
      "text/plain": [
       "20.900000000001597"
      ]
     },
     "execution_count": 26,
     "metadata": {},
     "output_type": "execute_result"
    }
   ],
   "source": [
    "ihigh['header']['BMAJ']*u.deg.to(u.marcsec)"
   ]
  },
  {
   "cell_type": "code",
   "execution_count": 24,
   "metadata": {},
   "outputs": [
    {
     "data": {
      "text/plain": [
       "15.900000000001198"
      ]
     },
     "execution_count": 24,
     "metadata": {},
     "output_type": "execute_result"
    }
   ],
   "source": [
    "ihigh['header']['BMIN']*u.deg.to(u.marcsec)"
   ]
  },
  {
   "cell_type": "code",
   "execution_count": 27,
   "metadata": {},
   "outputs": [
    {
     "data": {
      "text/plain": [
       "SIMPLE  =                    T /Standard FITS                                   \n",
       "BITPIX  =                  -32 /Floating point (32 bit)                         \n",
       "NAXIS   =                    4                                                  \n",
       "NAXIS1  =                  300                                                  \n",
       "NAXIS2  =                  300                                                  \n",
       "NAXIS3  =                    1                                                  \n",
       "NAXIS4  =                    1                                                  \n",
       "EXTEND  =                    T                                                  \n",
       "BSCALE  =   1.000000000000E+00 /PHYSICAL = PIXEL*BSCALE + BZERO                 \n",
       "BZERO   =   0.000000000000E+00                                                  \n",
       "BMAJ    =   5.805555555556E-06                                                  \n",
       "BMIN    =   4.416666666667E-06                                                  \n",
       "BPA     =   7.100000000000E+01                                                  \n",
       "BTYPE   = 'Intensity'                                                           \n",
       "OBJECT  = '        '                                                            \n",
       "                                                                                \n",
       "BUNIT   = 'Jy/beam '           /Brightness (pixel) unit                         \n",
       "EQUINOX =   2.000000000000E+03                                                  \n",
       "RADESYS = 'FK5     '                                                            \n",
       "LONPOLE =   1.800000000000E+02                                                  \n",
       "LATPOLE =   7.407103055556E+00                                                  \n",
       "PC01_01 =   1.000000000000E+00                                                  \n",
       "PC02_01 =   0.000000000000E+00                                                  \n",
       "PC03_01 =   0.000000000000E+00                                                  \n",
       "PC04_01 =   0.000000000000E+00                                                  \n",
       "PC01_02 =   0.000000000000E+00                                                  \n",
       "PC02_02 =   1.000000000000E+00                                                  \n",
       "PC03_02 =   0.000000000000E+00                                                  \n",
       "PC04_02 =   0.000000000000E+00                                                  \n",
       "PC01_03 =   0.000000000000E+00                                                  \n",
       "PC02_03 =   0.000000000000E+00                                                  \n",
       "PC03_03 =   1.000000000000E+00                                                  \n",
       "PC04_03 =   0.000000000000E+00                                                  \n",
       "PC01_04 =   0.000000000000E+00                                                  \n",
       "PC02_04 =   0.000000000000E+00                                                  \n",
       "PC03_04 =   0.000000000000E+00                                                  \n",
       "PC04_04 =   1.000000000000E+00                                                  \n",
       "CTYPE1  = 'RA---SIN'                                                            \n",
       "CRVAL1  =   8.879304583333E+01                                                  \n",
       "CDELT1  =  -5.555555555556E-07                                                  \n",
       "CRPIX1  =   1.510000000000E+02                                                  \n",
       "CUNIT1  = 'deg     '                                                            \n",
       "CTYPE2  = 'DEC--SIN'                                                            \n",
       "CRVAL2  =   7.407103055556E+00                                                  \n",
       "CDELT2  =   5.555555555556E-07                                                  \n",
       "CRPIX2  =   1.510000000000E+02                                                  \n",
       "CUNIT2  = 'deg     '                                                            \n",
       "CTYPE3  = 'FREQ    '                                                            \n",
       "CRVAL3  =   3.380544904895E+11                                                  \n",
       "CDELT3  =   1.576353758899E+10                                                  \n",
       "CRPIX3  =   1.000000000000E+00                                                  \n",
       "CUNIT3  = 'Hz      '                                                            \n",
       "CTYPE4  = 'STOKES  '                                                            \n",
       "CRVAL4  =   1.000000000000E+00                                                  \n",
       "CDELT4  =   1.000000000000E+00                                                  \n",
       "CRPIX4  =   1.000000000000E+00                                                  \n",
       "CUNIT4  = '        '                                                            \n",
       "PV2_1   =   0.000000000000E+00                                                  \n",
       "PV2_2   =   0.000000000000E+00                                                  \n",
       "RESTFRQ =   3.451489708000E+11 /Rest Frequency (Hz)                             \n",
       "SPECSYS = 'LSRK    '           /Spectral reference frame                        \n",
       "ALTRVAL =   6.162184652029E+06 /Alternate frequency reference value             \n",
       "ALTRPIX =   1.000000000000E+00 /Alternate frequency reference pixel             \n",
       "VELREF  =                  257 /1 LSR, 2 HEL, 3 OBS, +256 Radio                 \n",
       "COMMENT casacore non-standard usage: 4 LSD, 5 GEO, 6 SOU, 7 GAL                 \n",
       "TELESCOP= 'ALMA    '                                                            \n",
       "OBSERVER= 'pkervella'                                                           \n",
       "DATE-OBS= '2015-11-06T08:54:49.872000'                                          \n",
       "TIMESYS = 'UTC     '                                                            \n",
       "OBSRA   =   8.879304583333E+01                                                  \n",
       "OBSDEC  =   7.407103055556E+00                                                  \n",
       "OBSGEO-X=   2.225142180269E+06                                                  \n",
       "OBSGEO-Y=  -5.440307370349E+06                                                  \n",
       "OBSGEO-Z=  -2.481029851874E+06                                                  \n",
       "DATE    = '2017-05-23T14:05:34.017000' /Date FITS file was written              \n",
       "ORIGIN  = 'CASA 4.7.2-REL (r39762)'                                             "
      ]
     },
     "execution_count": 27,
     "metadata": {},
     "output_type": "execute_result"
    }
   ],
   "source": [
    "ihigh['header']"
   ]
  },
  {
   "cell_type": "code",
   "execution_count": 16,
   "metadata": {},
   "outputs": [
    {
     "data": {
      "text/plain": [
       "(<Quantity 5.80555556e-06 deg>, <Quantity 4.41666667e-06 deg>)"
      ]
     },
     "execution_count": 16,
     "metadata": {},
     "output_type": "execute_result"
    }
   ],
   "source": [
    "ihigh['beam']"
   ]
  },
  {
   "cell_type": "code",
   "execution_count": null,
   "metadata": {},
   "outputs": [],
   "source": [
    "df = pd.DataFrame([[\"'Low'\",ilow['kspatres'], ilow['header']['DATE-OBS']].ilow['header']['time'],\n",
    "                   [\"'Medium'\",imed['kspatres'], imed['header']['DATE-OBS']],\n",
    "                    [\"'High'\",ihigh['kspatres'], ihigh['header']['DATE-OBS']]],\n",
    "                  columns=[\"File\",\"Resolution\",\"Observation Date\"])"
   ]
  },
  {
   "cell_type": "code",
   "execution_count": 34,
   "metadata": {},
   "outputs": [
    {
     "data": {
      "text/plain": [
       "SIMPLE  =                    T /Standard FITS                                   \n",
       "BITPIX  =                  -32 /Floating point (32 bit)                         \n",
       "NAXIS   =                    4                                                  \n",
       "NAXIS1  =                  300                                                  \n",
       "NAXIS2  =                  300                                                  \n",
       "NAXIS3  =                    1                                                  \n",
       "NAXIS4  =                    1                                                  \n",
       "EXTEND  =                    T                                                  \n",
       "BSCALE  =   1.000000000000E+00 /PHYSICAL = PIXEL*BSCALE + BZERO                 \n",
       "BZERO   =   0.000000000000E+00                                                  \n",
       "BMAJ    =   5.805555555556E-06                                                  \n",
       "BMIN    =   4.416666666667E-06                                                  \n",
       "BPA     =   7.100000000000E+01                                                  \n",
       "BTYPE   = 'Intensity'                                                           \n",
       "OBJECT  = '        '                                                            \n",
       "                                                                                \n",
       "BUNIT   = 'Jy/beam '           /Brightness (pixel) unit                         \n",
       "EQUINOX =   2.000000000000E+03                                                  \n",
       "RADESYS = 'FK5     '                                                            \n",
       "LONPOLE =   1.800000000000E+02                                                  \n",
       "LATPOLE =   7.407103055556E+00                                                  \n",
       "PC01_01 =   1.000000000000E+00                                                  \n",
       "PC02_01 =   0.000000000000E+00                                                  \n",
       "PC03_01 =   0.000000000000E+00                                                  \n",
       "PC04_01 =   0.000000000000E+00                                                  \n",
       "PC01_02 =   0.000000000000E+00                                                  \n",
       "PC02_02 =   1.000000000000E+00                                                  \n",
       "PC03_02 =   0.000000000000E+00                                                  \n",
       "PC04_02 =   0.000000000000E+00                                                  \n",
       "PC01_03 =   0.000000000000E+00                                                  \n",
       "PC02_03 =   0.000000000000E+00                                                  \n",
       "PC03_03 =   1.000000000000E+00                                                  \n",
       "PC04_03 =   0.000000000000E+00                                                  \n",
       "PC01_04 =   0.000000000000E+00                                                  \n",
       "PC02_04 =   0.000000000000E+00                                                  \n",
       "PC03_04 =   0.000000000000E+00                                                  \n",
       "PC04_04 =   1.000000000000E+00                                                  \n",
       "CTYPE1  = 'RA---SIN'                                                            \n",
       "CRVAL1  =   8.879304583333E+01                                                  \n",
       "CDELT1  =  -5.555555555556E-07                                                  \n",
       "CRPIX1  =   1.510000000000E+02                                                  \n",
       "CUNIT1  = 'deg     '                                                            \n",
       "CTYPE2  = 'DEC--SIN'                                                            \n",
       "CRVAL2  =   7.407103055556E+00                                                  \n",
       "CDELT2  =   5.555555555556E-07                                                  \n",
       "CRPIX2  =   1.510000000000E+02                                                  \n",
       "CUNIT2  = 'deg     '                                                            \n",
       "CTYPE3  = 'FREQ    '                                                            \n",
       "CRVAL3  =   3.380544904895E+11                                                  \n",
       "CDELT3  =   1.576353758899E+10                                                  \n",
       "CRPIX3  =   1.000000000000E+00                                                  \n",
       "CUNIT3  = 'Hz      '                                                            \n",
       "CTYPE4  = 'STOKES  '                                                            \n",
       "CRVAL4  =   1.000000000000E+00                                                  \n",
       "CDELT4  =   1.000000000000E+00                                                  \n",
       "CRPIX4  =   1.000000000000E+00                                                  \n",
       "CUNIT4  = '        '                                                            \n",
       "PV2_1   =   0.000000000000E+00                                                  \n",
       "PV2_2   =   0.000000000000E+00                                                  \n",
       "RESTFRQ =   3.451489708000E+11 /Rest Frequency (Hz)                             \n",
       "SPECSYS = 'LSRK    '           /Spectral reference frame                        \n",
       "ALTRVAL =   6.162184652029E+06 /Alternate frequency reference value             \n",
       "ALTRPIX =   1.000000000000E+00 /Alternate frequency reference pixel             \n",
       "VELREF  =                  257 /1 LSR, 2 HEL, 3 OBS, +256 Radio                 \n",
       "COMMENT casacore non-standard usage: 4 LSD, 5 GEO, 6 SOU, 7 GAL                 \n",
       "TELESCOP= 'ALMA    '                                                            \n",
       "OBSERVER= 'pkervella'                                                           \n",
       "DATE-OBS= '2015-11-06T08:54:49.872000'                                          \n",
       "TIMESYS = 'UTC     '                                                            \n",
       "OBSRA   =   8.879304583333E+01                                                  \n",
       "OBSDEC  =   7.407103055556E+00                                                  \n",
       "OBSGEO-X=   2.225142180269E+06                                                  \n",
       "OBSGEO-Y=  -5.440307370349E+06                                                  \n",
       "OBSGEO-Z=  -2.481029851874E+06                                                  \n",
       "DATE    = '2017-05-23T14:05:34.017000' /Date FITS file was written              \n",
       "ORIGIN  = 'CASA 4.7.2-REL (r39762)'                                             "
      ]
     },
     "execution_count": 34,
     "metadata": {},
     "output_type": "execute_result"
    }
   ],
   "source": [
    "ihigh['header']"
   ]
  },
  {
   "cell_type": "code",
   "execution_count": 32,
   "metadata": {},
   "outputs": [],
   "source": [
    "from astropy import wcs"
   ]
  },
  {
   "cell_type": "code",
   "execution_count": 33,
   "metadata": {},
   "outputs": [
    {
     "name": "stderr",
     "output_type": "stream",
     "text": [
      "WARNING: FITSFixedWarning: PC01_01 = 1.000000000000E+00 \n",
      "indices in parameterized keywords must not have leading zeroes. [astropy.wcs.wcs]\n",
      "WARNING: FITSFixedWarning: PC02_01 = 0.000000000000E+00 \n",
      "indices in parameterized keywords must not have leading zeroes. [astropy.wcs.wcs]\n",
      "WARNING: FITSFixedWarning: PC03_01 = 0.000000000000E+00 \n",
      "indices in parameterized keywords must not have leading zeroes. [astropy.wcs.wcs]\n",
      "WARNING: FITSFixedWarning: PC04_01 = 0.000000000000E+00 \n",
      "indices in parameterized keywords must not have leading zeroes. [astropy.wcs.wcs]\n",
      "WARNING: FITSFixedWarning: PC01_02 = 0.000000000000E+00 \n",
      "indices in parameterized keywords must not have leading zeroes. [astropy.wcs.wcs]\n",
      "WARNING: FITSFixedWarning: PC02_02 = 1.000000000000E+00 \n",
      "indices in parameterized keywords must not have leading zeroes. [astropy.wcs.wcs]\n",
      "WARNING: FITSFixedWarning: PC03_02 = 0.000000000000E+00 \n",
      "indices in parameterized keywords must not have leading zeroes. [astropy.wcs.wcs]\n",
      "WARNING: FITSFixedWarning: PC04_02 = 0.000000000000E+00 \n",
      "indices in parameterized keywords must not have leading zeroes. [astropy.wcs.wcs]\n",
      "WARNING: FITSFixedWarning: PC01_03 = 0.000000000000E+00 \n",
      "indices in parameterized keywords must not have leading zeroes. [astropy.wcs.wcs]\n",
      "WARNING: FITSFixedWarning: PC02_03 = 0.000000000000E+00 \n",
      "indices in parameterized keywords must not have leading zeroes. [astropy.wcs.wcs]\n",
      "WARNING: FITSFixedWarning: PC03_03 = 1.000000000000E+00 \n",
      "indices in parameterized keywords must not have leading zeroes. [astropy.wcs.wcs]\n",
      "WARNING: FITSFixedWarning: PC04_03 = 0.000000000000E+00 \n",
      "indices in parameterized keywords must not have leading zeroes. [astropy.wcs.wcs]\n",
      "WARNING: FITSFixedWarning: PC01_04 = 0.000000000000E+00 \n",
      "indices in parameterized keywords must not have leading zeroes. [astropy.wcs.wcs]\n",
      "WARNING: FITSFixedWarning: PC02_04 = 0.000000000000E+00 \n",
      "indices in parameterized keywords must not have leading zeroes. [astropy.wcs.wcs]\n",
      "WARNING: FITSFixedWarning: PC03_04 = 0.000000000000E+00 \n",
      "indices in parameterized keywords must not have leading zeroes. [astropy.wcs.wcs]\n",
      "WARNING: FITSFixedWarning: PC04_04 = 1.000000000000E+00 \n",
      "indices in parameterized keywords must not have leading zeroes. [astropy.wcs.wcs]\n",
      "WARNING: FITSFixedWarning: 'datfix' made the change 'Set MJD-OBS to 57332.371411 from DATE-OBS'. [astropy.wcs.wcs]\n",
      "WARNING: FITSFixedWarning: 'obsfix' made the change 'Set OBSGEO-L to   -67.754929 from OBSGEO-[XYZ].\n",
      "Set OBSGEO-B to   -23.022886 from OBSGEO-[XYZ].\n",
      "Set OBSGEO-H to     5053.796 from OBSGEO-[XYZ]'. [astropy.wcs.wcs]\n"
     ]
    },
    {
     "data": {
      "text/plain": [
       "WCS Keywords\n",
       "\n",
       "Number of WCS axes: 4\n",
       "CTYPE : 'RA---SIN'  'DEC--SIN'  'FREQ'  'STOKES'  \n",
       "CRVAL : 88.79304583333  7.407103055556  338054490489.5  1.0  \n",
       "CRPIX : 151.0  151.0  1.0  1.0  \n",
       "PC1_1 PC1_2 PC1_3 PC1_4  : 1.0  0.0  0.0  0.0  \n",
       "PC2_1 PC2_2 PC2_3 PC2_4  : 0.0  1.0  0.0  0.0  \n",
       "PC3_1 PC3_2 PC3_3 PC3_4  : 0.0  0.0  1.0  0.0  \n",
       "PC4_1 PC4_2 PC4_3 PC4_4  : 0.0  0.0  0.0  1.0  \n",
       "CDELT : -5.555555555556e-07  5.555555555556e-07  15763537588.99  1.0  \n",
       "NAXIS : 300  300  1  1"
      ]
     },
     "execution_count": 33,
     "metadata": {},
     "output_type": "execute_result"
    }
   ],
   "source": [
    "wcs.WCS(ihigh['header'])"
   ]
  },
  {
   "cell_type": "code",
   "execution_count": 11,
   "metadata": {},
   "outputs": [
    {
     "data": {
      "text/html": [
       "<div>\n",
       "<style scoped>\n",
       "    .dataframe tbody tr th:only-of-type {\n",
       "        vertical-align: middle;\n",
       "    }\n",
       "\n",
       "    .dataframe tbody tr th {\n",
       "        vertical-align: top;\n",
       "    }\n",
       "\n",
       "    .dataframe thead th {\n",
       "        text-align: right;\n",
       "    }\n",
       "</style>\n",
       "<table border=\"1\" class=\"dataframe\">\n",
       "  <thead>\n",
       "    <tr style=\"text-align: right;\">\n",
       "      <th></th>\n",
       "      <th>File</th>\n",
       "      <th>Resolution</th>\n",
       "      <th>Observation Date</th>\n",
       "    </tr>\n",
       "  </thead>\n",
       "  <tbody>\n",
       "    <tr>\n",
       "      <th>0</th>\n",
       "      <td>'Low'</td>\n",
       "      <td>0.184441</td>\n",
       "      <td>2016-08-16T14:34:28.511999</td>\n",
       "    </tr>\n",
       "    <tr>\n",
       "      <th>1</th>\n",
       "      <td>'Medium'</td>\n",
       "      <td>0.040566</td>\n",
       "      <td>2015-11-06T08:54:51.888001</td>\n",
       "    </tr>\n",
       "    <tr>\n",
       "      <th>2</th>\n",
       "      <td>'High'</td>\n",
       "      <td>0.018229</td>\n",
       "      <td>2015-11-06T08:54:49.872000</td>\n",
       "    </tr>\n",
       "  </tbody>\n",
       "</table>\n",
       "</div>"
      ],
      "text/plain": [
       "       File  Resolution            Observation Date\n",
       "0     'Low'    0.184441  2016-08-16T14:34:28.511999\n",
       "1  'Medium'    0.040566  2015-11-06T08:54:51.888001\n",
       "2    'High'    0.018229  2015-11-06T08:54:49.872000"
      ]
     },
     "execution_count": 11,
     "metadata": {},
     "output_type": "execute_result"
    }
   ],
   "source": [
    "df"
   ]
  },
  {
   "cell_type": "code",
   "execution_count": 12,
   "metadata": {},
   "outputs": [
    {
     "name": "stdout",
     "output_type": "stream",
     "text": [
      "\\begin{tabular}{lrl}\n",
      "\\toprule\n",
      "File & Resolution & Observation Date \\\\\n",
      "\\midrule\n",
      "'Low' & 0.184 & 2016-08-16T14:34:28.511999 \\\\\n",
      "'Medium' & 0.041 & 2015-11-06T08:54:51.888001 \\\\\n",
      "'High' & 0.018 & 2015-11-06T08:54:49.872000 \\\\\n",
      "\\bottomrule\n",
      "\\end{tabular}\n",
      "\n"
     ]
    }
   ],
   "source": [
    "print(df.to_latex(index=False,\n",
    "                  formatters={\"name\": str.upper},\n",
    "                  float_format=\"{:.3f}\".format))"
   ]
  },
  {
   "cell_type": "code",
   "execution_count": null,
   "metadata": {},
   "outputs": [],
   "source": []
  },
  {
   "cell_type": "code",
   "execution_count": null,
   "metadata": {},
   "outputs": [],
   "source": []
  }
 ],
 "metadata": {
  "kernelspec": {
   "display_name": "base",
   "language": "python",
   "name": "python3"
  },
  "language_info": {
   "codemirror_mode": {
    "name": "ipython",
    "version": 3
   },
   "file_extension": ".py",
   "mimetype": "text/x-python",
   "name": "python",
   "nbconvert_exporter": "python",
   "pygments_lexer": "ipython3",
   "version": "3.11.4"
  }
 },
 "nbformat": 4,
 "nbformat_minor": 2
}
